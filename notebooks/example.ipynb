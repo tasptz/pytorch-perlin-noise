{
 "cells": [
  {
   "attachments": {},
   "cell_type": "markdown",
   "id": "498d8013",
   "metadata": {},
   "source": [
    "# Perlin Noise\n",
    "\n",
    "[Perlin Noise](https://en.wikipedia.org/wiki/Perlin_noise) is a rather simple way to generate complex noise data, and easily implemented in pytorch. This implementation requires that resolution of the random data has to be divisble by the grid resolution, because this allows using `torch.nn.functional.unfold` on the random vectors of the grid.\n",
    "\n",
    "## Installation\n",
    "\n",
    "Simply install from github with:\n",
    "\n",
    "```\n",
    "python -m pip install git+https://github.com/tasptz/pytorch-perlin-noise\n",
    "```\n",
    "\n",
    "## Simple Usage"
   ]
  },
  {
   "cell_type": "code",
   "execution_count": null,
   "id": "5251ff6d",
   "metadata": {},
   "outputs": [],
   "source": [
    "from perlin_noise import perlin_noise\n",
    "from matplotlib import pyplot as plt"
   ]
  },
  {
   "cell_type": "code",
   "execution_count": null,
   "id": "e1afec46",
   "metadata": {},
   "outputs": [],
   "source": [
    "noise = perlin_noise(grid_shape=(2, 8), out_shape=(128, 128))\n",
    "\n",
    "plt.imshow(noise);"
   ]
  },
  {
   "attachments": {},
   "cell_type": "markdown",
   "id": "f37213b1",
   "metadata": {},
   "source": [
    "## RGB Noise\n",
    "\n",
    "It is also simple to generate rgb noise:"
   ]
  },
  {
   "cell_type": "code",
   "execution_count": null,
   "id": "e04009ce",
   "metadata": {},
   "outputs": [],
   "source": [
    "noise = perlin_noise(grid_shape=(4, 4), out_shape=(128, 128), batch_size=3)\n",
    "\n",
    "mi, ma = noise.min(), noise.max()\n",
    "noise = (noise - mi) / (ma - mi)\n",
    "\n",
    "plt.imshow(noise.permute(1, 2, 0));"
   ]
  },
  {
   "attachments": {},
   "cell_type": "markdown",
   "id": "463fa30f",
   "metadata": {},
   "source": [
    "## Special Usage\n",
    "\n",
    "The function `perlin_noise_tensor` accepts the random vectors, grid cell positions and interpolation function directly which gives much more control. For example:"
   ]
  },
  {
   "cell_type": "code",
   "execution_count": null,
   "id": "118cc536",
   "metadata": {},
   "outputs": [],
   "source": [
    "import torch\n",
    "from torch.distributions.von_mises import VonMises\n",
    "from perlin_noise import perlin_noise_tensor, unfold_grid, get_positions\n",
    "from plot_helper import grid_plot\n",
    "\n",
    "angle = (\n",
    "    VonMises(\n",
    "        loc=torch.zeros(1),\n",
    "        concentration=torch.tensor((10.0,)),\n",
    "    )\n",
    "    .sample((1, 9, 9))\n",
    "    .squeeze(-1)\n",
    ")\n",
    "grid = torch.stack((torch.cos(angle), torch.sin(angle)), dim=1)\n",
    "\n",
    "noise = perlin_noise_tensor(\n",
    "    vectors=unfold_grid(grid),\n",
    "    positions=get_positions((16, 16)),\n",
    "    step=lambda t: ((6.0 * t - 15.0) * t + 10.0) * t * t * t,\n",
    ")\n",
    "\n",
    "grid_plot(grid, noise[0]);"
   ]
  }
 ],
 "metadata": {
  "kernelspec": {
   "display_name": "Python 3 (ipykernel)",
   "language": "python",
   "name": "python3"
  },
  "language_info": {
   "codemirror_mode": {
    "name": "ipython",
    "version": 3
   },
   "file_extension": ".py",
   "mimetype": "text/x-python",
   "name": "python",
   "nbconvert_exporter": "python",
   "pygments_lexer": "ipython3",
   "version": "3.9.16"
  }
 },
 "nbformat": 4,
 "nbformat_minor": 5
}
